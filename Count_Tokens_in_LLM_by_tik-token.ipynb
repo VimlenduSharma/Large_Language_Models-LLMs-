{
 "cells": [
  {
   "cell_type": "code",
   "execution_count": 18,
   "id": "8023ae12",
   "metadata": {},
   "outputs": [
    {
     "name": "stdout",
     "output_type": "stream",
     "text": [
      "Requirement already satisfied: tiktoken in /Users/anaconda3/lib/python3.11/site-packages (0.6.0)\n",
      "Requirement already satisfied: regex>=2022.1.18 in /Users/anaconda3/lib/python3.11/site-packages (from tiktoken) (2022.7.9)\n",
      "Requirement already satisfied: requests>=2.26.0 in /Users/anaconda3/lib/python3.11/site-packages (from tiktoken) (2.31.0)\n",
      "Requirement already satisfied: charset-normalizer<4,>=2 in /Users/anaconda3/lib/python3.11/site-packages (from requests>=2.26.0->tiktoken) (2.0.4)\n",
      "Requirement already satisfied: idna<4,>=2.5 in /Users/anaconda3/lib/python3.11/site-packages (from requests>=2.26.0->tiktoken) (2.10)\n",
      "Requirement already satisfied: urllib3<3,>=1.21.1 in /Users/anaconda3/lib/python3.11/site-packages (from requests>=2.26.0->tiktoken) (1.26.16)\n",
      "Requirement already satisfied: certifi>=2017.4.17 in /Users/anaconda3/lib/python3.11/site-packages (from requests>=2.26.0->tiktoken) (2023.7.22)\n",
      "Requirement already satisfied: openai in /Users/anaconda3/lib/python3.11/site-packages (1.19.0)\n",
      "Requirement already satisfied: anyio<5,>=3.5.0 in /Users/anaconda3/lib/python3.11/site-packages (from openai) (3.5.0)\n",
      "Requirement already satisfied: distro<2,>=1.7.0 in /Users/anaconda3/lib/python3.11/site-packages (from openai) (1.9.0)\n",
      "Requirement already satisfied: httpx<1,>=0.23.0 in /Users/anaconda3/lib/python3.11/site-packages (from openai) (0.27.0)\n",
      "Requirement already satisfied: pydantic<3,>=1.9.0 in /Users/anaconda3/lib/python3.11/site-packages (from openai) (1.10.8)\n",
      "Requirement already satisfied: sniffio in /Users/anaconda3/lib/python3.11/site-packages (from openai) (1.2.0)\n",
      "Requirement already satisfied: tqdm>4 in /Users/anaconda3/lib/python3.11/site-packages (from openai) (4.65.0)\n",
      "Requirement already satisfied: typing-extensions<5,>=4.7 in /Users/anaconda3/lib/python3.11/site-packages (from openai) (4.9.0)\n",
      "Requirement already satisfied: idna>=2.8 in /Users/anaconda3/lib/python3.11/site-packages (from anyio<5,>=3.5.0->openai) (2.10)\n",
      "Requirement already satisfied: certifi in /Users/anaconda3/lib/python3.11/site-packages (from httpx<1,>=0.23.0->openai) (2023.7.22)\n",
      "Requirement already satisfied: httpcore==1.* in /Users/anaconda3/lib/python3.11/site-packages (from httpx<1,>=0.23.0->openai) (1.0.5)\n",
      "Requirement already satisfied: h11<0.15,>=0.13 in /Users/anaconda3/lib/python3.11/site-packages (from httpcore==1.*->httpx<1,>=0.23.0->openai) (0.14.0)\n"
     ]
    }
   ],
   "source": [
    "#spaces_are_usually_grouped_at_starting_of_word\n",
    "!pip install --upgrade tiktoken\n",
    "!pip install --upgrade openai"
   ]
  },
  {
   "cell_type": "code",
   "execution_count": 19,
   "id": "a266bab0",
   "metadata": {},
   "outputs": [],
   "source": [
    "import tiktoken"
   ]
  },
  {
   "cell_type": "code",
   "execution_count": 20,
   "id": "c9d4af33",
   "metadata": {},
   "outputs": [],
   "source": [
    "encoding=tiktoken.get_encoding(\"cl100k_base\")"
   ]
  },
  {
   "cell_type": "code",
   "execution_count": 21,
   "id": "ef165514",
   "metadata": {},
   "outputs": [],
   "source": [
    "encoding = tiktoken.encoding_for_model(\"gpt-3.5-turbo\")"
   ]
  },
  {
   "cell_type": "code",
   "execution_count": 22,
   "id": "64eb2641",
   "metadata": {},
   "outputs": [
    {
     "data": {
      "text/plain": [
       "[83, 1609, 5963, 374, 2294, 0]"
      ]
     },
     "execution_count": 22,
     "metadata": {},
     "output_type": "execute_result"
    }
   ],
   "source": [
    "encoding.encode(\"tiktoken is great!\")"
   ]
  },
  {
   "cell_type": "code",
   "execution_count": 23,
   "id": "0dc63848",
   "metadata": {},
   "outputs": [],
   "source": [
    "#Count tokens by counting the length of the list returned by .encode().\n",
    "def num_tokens_from_string(string:str, encoding_name:str)->int:\n",
    "    \"\"\" Returns the number of tokens in a text string. \"\"\"\n",
    "    encoding=tiktoken.get_encoding(encoding_name)\n",
    "    num_tokens=len(encoding.encode(string))\n",
    "    return num_tokens"
   ]
  },
  {
   "cell_type": "code",
   "execution_count": 24,
   "id": "fe019761",
   "metadata": {},
   "outputs": [
    {
     "data": {
      "text/plain": [
       "6"
      ]
     },
     "execution_count": 24,
     "metadata": {},
     "output_type": "execute_result"
    }
   ],
   "source": [
    "num_tokens_from_string(\"tiktoken is great!\", \"cl100k_base\")"
   ]
  },
  {
   "cell_type": "code",
   "execution_count": 25,
   "id": "a757e970",
   "metadata": {},
   "outputs": [
    {
     "data": {
      "text/plain": [
       "'tiktoken is great!'"
      ]
     },
     "execution_count": 25,
     "metadata": {},
     "output_type": "execute_result"
    }
   ],
   "source": [
    "encoding.decode([83, 1609, 5963, 374, 2294, 0])"
   ]
  },
  {
   "cell_type": "code",
   "execution_count": 26,
   "id": "360ef29c",
   "metadata": {},
   "outputs": [
    {
     "data": {
      "text/plain": [
       "[b't', b'ik', b'token', b' is', b' great', b'!']"
      ]
     },
     "execution_count": 26,
     "metadata": {},
     "output_type": "execute_result"
    }
   ],
   "source": [
    "[encoding.decode_single_token_bytes(token) for token in [83, 1609, 5963, 374, 2294, 0]]#b_in_starting_indicate_strings_are_byte_strings"
   ]
  },
  {
   "cell_type": "code",
   "execution_count": 27,
   "id": "255f4860",
   "metadata": {},
   "outputs": [],
   "source": [
    "def compare_encodings(example_string:str)->None:\n",
    "    \"\"\" Prints a comparison of three strings encoding.\"\"\"\n",
    "    print('f\\nExample String:\"{example_string}\"')\n",
    "    for encoding_name in [\"r50k_base\", \"p50k_base\", \"cl100k_base\"]:\n",
    "        encoding=tiktoken.get_encoding(encoding_name)\n",
    "        token_integers=encoding.encode(example_string)\n",
    "        num_tokens=len(token_integers)\n",
    "        token_bytes=[encoding.decode_single_token_bytes(token) for token in token_integers]\n",
    "        print()\n",
    "        print(f\"{encoding_name}:{num_tokens} tokens\")\n",
    "        print(f\" token integers:{token_integers}\")\n",
    "        print(f\" token bytes:{token_bytes}\")\n",
    "    "
   ]
  },
  {
   "cell_type": "code",
   "execution_count": 28,
   "id": "771ad7a5",
   "metadata": {},
   "outputs": [
    {
     "name": "stdout",
     "output_type": "stream",
     "text": [
      "f\n",
      "Example String:\"{example_string}\"\n",
      "\n",
      "r50k_base:5 tokens\n",
      " token integers:[415, 29207, 44390, 3699, 1042]\n",
      " token bytes:[b'ant', b'idis', b'establishment', b'arian', b'ism']\n",
      "\n",
      "p50k_base:5 tokens\n",
      " token integers:[415, 29207, 44390, 3699, 1042]\n",
      " token bytes:[b'ant', b'idis', b'establishment', b'arian', b'ism']\n",
      "\n",
      "cl100k_base:6 tokens\n",
      " token integers:[519, 85342, 34500, 479, 8997, 2191]\n",
      " token bytes:[b'ant', b'idis', b'establish', b'ment', b'arian', b'ism']\n"
     ]
    }
   ],
   "source": [
    "compare_encodings(\"antidisestablishmentarianism\")"
   ]
  },
  {
   "cell_type": "code",
   "execution_count": 29,
   "id": "a6b2cffd",
   "metadata": {},
   "outputs": [
    {
     "name": "stdout",
     "output_type": "stream",
     "text": [
      "f\n",
      "Example String:\"{example_string}\"\n",
      "\n",
      "r50k_base:5 tokens\n",
      " token integers:[17, 10, 17, 28, 19]\n",
      " token bytes:[b'2', b'+', b'2', b'=', b'4']\n",
      "\n",
      "p50k_base:5 tokens\n",
      " token integers:[17, 10, 17, 28, 19]\n",
      " token bytes:[b'2', b'+', b'2', b'=', b'4']\n",
      "\n",
      "cl100k_base:5 tokens\n",
      " token integers:[17, 10, 17, 28, 19]\n",
      " token bytes:[b'2', b'+', b'2', b'=', b'4']\n"
     ]
    }
   ],
   "source": [
    "compare_encodings(\"2+2=4\")"
   ]
  },
  {
   "cell_type": "code",
   "execution_count": 30,
   "id": "a09f2f70",
   "metadata": {},
   "outputs": [
    {
     "name": "stdout",
     "output_type": "stream",
     "text": [
      "f\n",
      "Example String:\"{example_string}\"\n",
      "\n",
      "r50k_base:14 tokens\n",
      " token integers:[2515, 232, 45739, 243, 37955, 33768, 98, 2515, 232, 1792, 223, 30640, 30201, 29557]\n",
      " token bytes:[b'\\xe3\\x81', b'\\x8a', b'\\xe8\\xaa', b'\\x95', b'\\xe7\\x94\\x9f', b'\\xe6\\x97', b'\\xa5', b'\\xe3\\x81', b'\\x8a', b'\\xe3\\x82', b'\\x81', b'\\xe3\\x81\\xa7', b'\\xe3\\x81\\xa8', b'\\xe3\\x81\\x86']\n",
      "\n",
      "p50k_base:14 tokens\n",
      " token integers:[2515, 232, 45739, 243, 37955, 33768, 98, 2515, 232, 1792, 223, 30640, 30201, 29557]\n",
      " token bytes:[b'\\xe3\\x81', b'\\x8a', b'\\xe8\\xaa', b'\\x95', b'\\xe7\\x94\\x9f', b'\\xe6\\x97', b'\\xa5', b'\\xe3\\x81', b'\\x8a', b'\\xe3\\x82', b'\\x81', b'\\xe3\\x81\\xa7', b'\\xe3\\x81\\xa8', b'\\xe3\\x81\\x86']\n",
      "\n",
      "cl100k_base:9 tokens\n",
      " token integers:[33334, 45918, 243, 21990, 9080, 33334, 62004, 16556, 78699]\n",
      " token bytes:[b'\\xe3\\x81\\x8a', b'\\xe8\\xaa', b'\\x95', b'\\xe7\\x94\\x9f', b'\\xe6\\x97\\xa5', b'\\xe3\\x81\\x8a', b'\\xe3\\x82\\x81', b'\\xe3\\x81\\xa7', b'\\xe3\\x81\\xa8\\xe3\\x81\\x86']\n"
     ]
    }
   ],
   "source": [
    "compare_encodings(\"お誕生日おめでとう\")"
   ]
  },
  {
   "cell_type": "code",
   "execution_count": 31,
   "id": "340dcf6e",
   "metadata": {},
   "outputs": [],
   "source": [
    "#count-tokens_in_chat\n",
    "\n",
    "def num_tokens_from_messages(messages, model=\"gpt-3.5-turbo-0613\"):\n",
    "    \"\"\" Return the number of tokens used by a list of messages.\"\"\"\n",
    "    try:\n",
    "        encoding=tiktoken.encoding_for_model(model)\n",
    "    except KeyError:\n",
    "        print(\"Warning: model not found. Using cl100k_base encoding.\")\n",
    "        encoding=tiktoken.get_encoding(\"cl100k_base\")\n",
    "    if model in{\n",
    "        \"gpt-3.5-turbo-0613\",\n",
    "        \"gpt-3.5-turbo-16k-0613\",\n",
    "        \"gpt-4-0314\",\n",
    "        \"gpt-4-32k-0314\",\n",
    "        \"gpt-4-0613\",\n",
    "        \"gpt-4-32k-0613\",\n",
    "    }:\n",
    "        tokens_per_message=3\n",
    "        tokens_per_name=1\n",
    "    elif model==\"gpt-3.5-turbo-0301\":\n",
    "        tokens_per_message=4\n",
    "        tokens_per_name=-1\n",
    "    elif \"gpt-3.5-turbo\" in model:\n",
    "        print(\"Warning: gpt-3.5-turbo may update over time. Returning num-tokens assuming gpt-3.5-turbo-0613.\")\n",
    "        return num_tokens_from_messages(messages, model=\"gpt-3.5-turbo-0613\")\n",
    "    elif \"gpt-4\" in model:\n",
    "        print(\"Warning: gpt-4 may update over time. Returning num tokens assuming gpt-4-0613.\")\n",
    "        return num_tokens_from_messages(messages, model=\"gpt-4-0613\")\n",
    "    else:\n",
    "        raise NotImplementedError(\n",
    "            f\"\"\" num_tokens_from_messages() is not implemented for model {model}.\"\"\" \n",
    "            )\n",
    "    num_tokens=0\n",
    "    for message in messages:\n",
    "        num_tokens+=tokens_per_message\n",
    "        for key, value in message.items():\n",
    "            num_tokens+=len(encoding.encode(value))\n",
    "            if key==\"name\":\n",
    "                num_tokens+=tokens_per_name\n",
    "    num_tokens+=3\n",
    "    return num_tokens\n",
    "    "
   ]
  }
 ],
 "metadata": {
  "kernelspec": {
   "display_name": "Python 3 (ipykernel)",
   "language": "python",
   "name": "python3"
  },
  "language_info": {
   "codemirror_mode": {
    "name": "ipython",
    "version": 3
   },
   "file_extension": ".py",
   "mimetype": "text/x-python",
   "name": "python",
   "nbconvert_exporter": "python",
   "pygments_lexer": "ipython3",
   "version": "3.11.5"
  }
 },
 "nbformat": 4,
 "nbformat_minor": 5
}
