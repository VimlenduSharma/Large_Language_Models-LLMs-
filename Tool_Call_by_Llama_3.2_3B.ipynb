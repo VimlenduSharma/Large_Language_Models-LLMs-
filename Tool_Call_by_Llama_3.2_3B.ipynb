{
 "cells": [
  {
   "cell_type": "code",
   "execution_count": 4,
   "id": "9ed14fff-9ab6-4215-836a-3186effd8046",
   "metadata": {},
   "outputs": [],
   "source": [
    "import torch\n",
    "from transformers import pipeline"
   ]
  },
  {
   "cell_type": "code",
   "execution_count": 6,
   "id": "30cd4c66-8766-415c-913f-581af4c60312",
   "metadata": {},
   "outputs": [],
   "source": [
    "function_definitions=\"\"\"[{\n",
    "   \"name\":\"search_google\",\n",
    "   \"description\":\"Performs a Google Search for a given query and returns the top results.\",\n",
    "   \"parameters\":{\n",
    "      \"type\":\"dict\",\n",
    "      \"required\":[\n",
    "          \"query\"\n",
    "      ],\n",
    "      \"properties\":{\n",
    "          \"query\":{\n",
    "              \"type\":\"string\",\n",
    "              \"description\":\"The search query to be used for the google search.\"\n",
    "              },\n",
    "              \"num_results\":{\n",
    "                   \"type\":\"integer\",\n",
    "                   \"description\":\"The number of search results to return.\",\n",
    "                   \"default\":10\n",
    "               }\n",
    "       }\n",
    "    }\n",
    "  },\n",
    "  {\n",
    "     \"name\":\"send_email\",\n",
    "     \"description\":\"Sends an email to a specified recipient.\",\n",
    "     \"parameters\":{\n",
    "         \"type\":\"dict\",\n",
    "         \"required\":[\n",
    "             \"recipient_email\",\n",
    "             \"subject\",\n",
    "             \"message\"\n",
    "             ],\n",
    "             \"properties\":{\n",
    "                 \"recipient_email\": {\n",
    "                     \"type\":\"string\",\n",
    "                     \"description\":\"The email address of the recipient.\"\n",
    "                  },\n",
    "                  \"subject\": {\n",
    "                      \"type\":\"string\",\n",
    "                      \"description\":\"The subject of the email.\"\n",
    "                   },\n",
    "                   \"message\": {\n",
    "                      \"type\":\"string\",\n",
    "                      \"description\":\"The body of the email.\"\n",
    "                   }\n",
    "              }\n",
    "       }\n",
    "   }\n",
    "]\n",
    "\"\"\"\n",
    "system_prompt = \"\"\"You are an expert in composing functions. You are given a question and a set of possible functions. \n",
    "Based on the question, you will need to make one or more function/tool calls to achieve the purpose. \n",
    "If none of the function can be used, point it out. If the given question lacks the parameters required by the function,\n",
    "also point it out. You should only return the function call in tools call sections.\n",
    "\n",
    "If you decide to invoke any of the function(s), you MUST put it in the format of [func_name1(params_name1=params_value1, params_name2=params_value2...), func_name2(params)]\\n\n",
    "You SHOULD NOT include any other text in the response.\n",
    "\n",
    "Here is a list of functions in JSON format that you can invoke.\\n\\n{functions}\\n\"\"\".format(functions=function_definitions)\n"
   ]
  }
 ],
 "metadata": {
  "kernelspec": {
   "display_name": "Python 3 (ipykernel)",
   "language": "python",
   "name": "python3"
  },
  "language_info": {
   "codemirror_mode": {
    "name": "ipython",
    "version": 3
   },
   "file_extension": ".py",
   "mimetype": "text/x-python",
   "name": "python",
   "nbconvert_exporter": "python",
   "pygments_lexer": "ipython3",
   "version": "3.12.4"
  }
 },
 "nbformat": 4,
 "nbformat_minor": 5
}
