{
 "cells": [
  {
   "cell_type": "code",
   "execution_count": 2,
   "id": "034ded9c",
   "metadata": {},
   "outputs": [
    {
     "name": "stdout",
     "output_type": "stream",
     "text": [
      "Token IDs [1026, 338, 625, 50138, 0]\n"
     ]
    }
   ],
   "source": [
    "#Method-Byte_Pair_Encoding\n",
    "#with_example_of_GPT-2_tokenizer\n",
    "\n",
    "from transformers import GPT2Tokenizer\n",
    "tokenizer=GPT2Tokenizer.from_pretrained(\"gpt2\")\n",
    "text=\"It's over 9000!\"\n",
    "tokens_id=tokenizer.encode(text, add_special_tokens=True)\n",
    "print(\"Token IDs\", tokens_id)\n"
   ]
  },
  {
   "cell_type": "code",
   "execution_count": 3,
   "id": "bf1c80f2",
   "metadata": {},
   "outputs": [
    {
     "name": "stdout",
     "output_type": "stream",
     "text": [
      "Raw tokens: ['It', \"'s\", ' over', ' 9000', '!']\n"
     ]
    }
   ],
   "source": [
    "#convert_token_ids_back_to_tokens\n",
    "raw_tokens=[tokenizer.decode([tokens_id]) for tokens_id in tokens_id]\n",
    "print(\"Raw tokens:\", raw_tokens)"
   ]
  },
  {
   "cell_type": "code",
   "execution_count": 4,
   "id": "b01b7239",
   "metadata": {},
   "outputs": [
    {
     "name": "stderr",
     "output_type": "stream",
     "text": [
      "/Users/anaconda3/lib/python3.11/site-packages/transformers/utils/generic.py:260: UserWarning: torch.utils._pytree._register_pytree_node is deprecated. Please use torch.utils._pytree.register_pytree_node instead.\n",
      "  torch.utils._pytree._register_pytree_node(\n"
     ]
    }
   ],
   "source": [
    "#Use_BERT_For_conversion_of_Tokens->Embeddings\n",
    "\n",
    "from transformers import BertTokenizer, BertModel\n",
    "import torch\n"
   ]
  },
  {
   "cell_type": "code",
   "execution_count": 5,
   "id": "eac5d863",
   "metadata": {},
   "outputs": [
    {
     "data": {
      "application/vnd.jupyter.widget-view+json": {
       "model_id": "72a2422f5cf5430fbdf813abcc778e52",
       "version_major": 2,
       "version_minor": 0
      },
      "text/plain": [
       "Downloading vocab.txt:   0%|          | 0.00/232k [00:00<?, ?B/s]"
      ]
     },
     "metadata": {},
     "output_type": "display_data"
    },
    {
     "data": {
      "application/vnd.jupyter.widget-view+json": {
       "model_id": "3168cae3bd9b41fdb1e4021f2386d3ef",
       "version_major": 2,
       "version_minor": 0
      },
      "text/plain": [
       "Downloading tokenizer_config.json:   0%|          | 0.00/48.0 [00:00<?, ?B/s]"
      ]
     },
     "metadata": {},
     "output_type": "display_data"
    },
    {
     "data": {
      "application/vnd.jupyter.widget-view+json": {
       "model_id": "f90ce8e640564f60a55ea5970865572d",
       "version_major": 2,
       "version_minor": 0
      },
      "text/plain": [
       "Downloading config.json:   0%|          | 0.00/570 [00:00<?, ?B/s]"
      ]
     },
     "metadata": {},
     "output_type": "display_data"
    },
    {
     "data": {
      "application/vnd.jupyter.widget-view+json": {
       "model_id": "af1214c28ab644999984cbf0e6d9c79e",
       "version_major": 2,
       "version_minor": 0
      },
      "text/plain": [
       "Downloading model.safetensors:   0%|          | 0.00/440M [00:00<?, ?B/s]"
      ]
     },
     "metadata": {},
     "output_type": "display_data"
    },
    {
     "name": "stdout",
     "output_type": "stream",
     "text": [
      "Input Ids: [101, 2009, 1005, 1055, 2058, 7706, 2692, 999, 102]\n"
     ]
    }
   ],
   "source": [
    "#load_pre-trained_model_tokenizer\n",
    "tokenizer=BertTokenizer.from_pretrained('bert-base-uncased')\n",
    "model=BertModel.from_pretrained('bert-base-uncased')\n",
    "text=\"It's over 9000!\"\n",
    "input_ids=tokenizer.encode(text, add_special_tokens=True)\n",
    "print(\"Input Ids:\", input_ids)"
   ]
  },
  {
   "cell_type": "code",
   "execution_count": 6,
   "id": "e3f16111",
   "metadata": {},
   "outputs": [
    {
     "name": "stdout",
     "output_type": "stream",
     "text": [
      "Raw tokens: ['[CLS]', 'it', \"'\", 's', 'over', '900', '##0', '!', '[SEP]']\n"
     ]
    }
   ],
   "source": [
    "raw_tokens=[tokenizer.decode([token_id]) for token_id in input_ids]\n",
    "print(\"Raw tokens:\", raw_tokens)"
   ]
  },
  {
   "cell_type": "code",
   "execution_count": 7,
   "id": "d5e7c8b6",
   "metadata": {},
   "outputs": [
    {
     "data": {
      "text/plain": [
       "tensor([[ 101, 2009, 1005, 1055, 2058, 7706, 2692,  999,  102]])"
      ]
     },
     "execution_count": 7,
     "metadata": {},
     "output_type": "execute_result"
    }
   ],
   "source": [
    "#convert_list_of_ids_to_tensor\n",
    "input_ids_tensors=torch.tensor([input_ids])\n",
    "input_ids_tensors"
   ]
  },
  {
   "cell_type": "code",
   "execution_count": 8,
   "id": "dbb9f60f",
   "metadata": {},
   "outputs": [
    {
     "name": "stdout",
     "output_type": "stream",
     "text": [
      "Embeddings: tensor([[[ 0.1116,  0.0722,  0.3173,  ..., -0.0635,  0.2166,  0.3236],\n",
      "         [-0.4159, -0.5147,  0.5690,  ..., -0.2577,  0.5710,  0.4439],\n",
      "         [-0.4893, -0.8719,  0.7343,  ..., -0.3001,  0.6078,  0.3938],\n",
      "         ...,\n",
      "         [-0.2746, -0.6479,  0.2702,  ..., -0.4827,  0.1755, -0.3939],\n",
      "         [ 0.0846, -0.3420,  0.0216,  ...,  0.6648,  0.3375, -0.2893],\n",
      "         [ 0.6566,  0.2011,  0.0142,  ...,  0.0786, -0.5767, -0.4356]]])\n"
     ]
    }
   ],
   "source": [
    "with torch.no_grad():\n",
    "    outputs=model(input_ids_tensors)\n",
    "embeddings=outputs.last_hidden_state\n",
    "print(\"Embeddings:\", embeddings)"
   ]
  },
  {
   "cell_type": "code",
   "execution_count": 9,
   "id": "38772c66",
   "metadata": {},
   "outputs": [
    {
     "name": "stdout",
     "output_type": "stream",
     "text": [
      "6912\n"
     ]
    }
   ],
   "source": [
    "#No.of_elements_in_embeddings\n",
    "#function-numel()\n",
    "num_elements=embeddings.numel()\n",
    "print(num_elements)"
   ]
  }
 ],
 "metadata": {
  "kernelspec": {
   "display_name": "Python 3 (ipykernel)",
   "language": "python",
   "name": "python3"
  },
  "language_info": {
   "codemirror_mode": {
    "name": "ipython",
    "version": 3
   },
   "file_extension": ".py",
   "mimetype": "text/x-python",
   "name": "python",
   "nbconvert_exporter": "python",
   "pygments_lexer": "ipython3",
   "version": "3.11.5"
  }
 },
 "nbformat": 4,
 "nbformat_minor": 5
}
